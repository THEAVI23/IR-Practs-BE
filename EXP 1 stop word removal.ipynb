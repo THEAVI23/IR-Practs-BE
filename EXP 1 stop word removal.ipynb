{
 "cells": [
  {
   "cell_type": "code",
   "execution_count": 1,
   "id": "6f610690-571e-4f81-aa3b-f6d1de6f1453",
   "metadata": {},
   "outputs": [
    {
     "name": "stdout",
     "output_type": "stream",
     "text": [
      "Collecting nltk\n",
      "  Downloading nltk-3.6.7-py3-none-any.whl (1.5 MB)\n",
      "Requirement already satisfied: tqdm in c:\\users\\sumedh\\.conda\\envs\\tf_gpu\\lib\\site-packages (from nltk) (4.64.1)\n",
      "Collecting click\n",
      "  Downloading click-8.0.4-py3-none-any.whl (97 kB)\n",
      "Collecting regex>=2021.8.3\n",
      "  Downloading regex-2023.8.8-cp36-cp36m-win_amd64.whl (280 kB)\n",
      "Requirement already satisfied: joblib in c:\\users\\sumedh\\.conda\\envs\\tf_gpu\\lib\\site-packages (from nltk) (1.1.1)\n",
      "Requirement already satisfied: colorama in c:\\users\\sumedh\\.conda\\envs\\tf_gpu\\lib\\site-packages (from click->nltk) (0.4.5)\n",
      "Requirement already satisfied: importlib-metadata in c:\\users\\sumedh\\.conda\\envs\\tf_gpu\\lib\\site-packages (from click->nltk) (4.8.3)\n",
      "Requirement already satisfied: importlib-resources in c:\\users\\sumedh\\.conda\\envs\\tf_gpu\\lib\\site-packages (from tqdm->nltk) (5.4.0)\n",
      "Requirement already satisfied: zipp>=0.5 in c:\\users\\sumedh\\.conda\\envs\\tf_gpu\\lib\\site-packages (from importlib-metadata->click->nltk) (3.6.0)\n",
      "Requirement already satisfied: typing-extensions>=3.6.4 in c:\\users\\sumedh\\.conda\\envs\\tf_gpu\\lib\\site-packages (from importlib-metadata->click->nltk) (3.7.4.3)\n",
      "Installing collected packages: regex, click, nltk\n",
      "Successfully installed click-8.0.4 nltk-3.6.7 regex-2023.8.8\n"
     ]
    }
   ],
   "source": [
    "!pip install nltk"
   ]
  },
  {
   "cell_type": "code",
   "execution_count": 2,
   "id": "694c5a3c-7da2-4cb6-bcad-baa46161d85b",
   "metadata": {},
   "outputs": [],
   "source": [
    "import nltk"
   ]
  },
  {
   "cell_type": "code",
   "execution_count": 3,
   "id": "405587ac-f9aa-441a-9cb1-b7151a8ae870",
   "metadata": {},
   "outputs": [
    {
     "name": "stdout",
     "output_type": "stream",
     "text": [
      " Hello How are you Hope you are fine and good. What's your name\n"
     ]
    }
   ],
   "source": [
    "punctuation = \"\"\",!@#$%^&*(){}[]:;<>?/\"\"\"\n",
    "\n",
    "str = \"Hello! How are you? Hope you are fine and good. What's your name?\"\n",
    "str1 = \" \"\n",
    "\n",
    "for i in str:\n",
    "    if i not in punctuation:\n",
    "        str1 = str1 + i\n",
    "\n",
    "print (str1)"
   ]
  },
  {
   "cell_type": "code",
   "execution_count": 4,
   "id": "f438c351-7274-488a-bb9a-1a42f2a9c844",
   "metadata": {},
   "outputs": [
    {
     "name": "stderr",
     "output_type": "stream",
     "text": [
      "[nltk_data] Downloading package punkt to\n",
      "[nltk_data]     C:\\Users\\SUMEDH\\AppData\\Roaming\\nltk_data...\n",
      "[nltk_data]   Package punkt is already up-to-date!\n",
      "[nltk_data] Downloading package wordnet to\n",
      "[nltk_data]     C:\\Users\\SUMEDH\\AppData\\Roaming\\nltk_data...\n",
      "[nltk_data]   Package wordnet is already up-to-date!\n",
      "[nltk_data] Downloading package punkt_tab to\n",
      "[nltk_data]     C:\\Users\\SUMEDH\\AppData\\Roaming\\nltk_data...\n",
      "[nltk_data]   Unzipping tokenizers\\punkt_tab.zip.\n"
     ]
    },
    {
     "data": {
      "text/plain": [
       "True"
      ]
     },
     "execution_count": 4,
     "metadata": {},
     "output_type": "execute_result"
    }
   ],
   "source": [
    "nltk.download('punkt')\n",
    "nltk.download('wordnet')\n",
    "nltk.download('punkt_tab')"
   ]
  },
  {
   "cell_type": "code",
   "execution_count": 6,
   "id": "baa0429b-7bbc-4494-83dc-0c74d5cff4d1",
   "metadata": {},
   "outputs": [
    {
     "name": "stdout",
     "output_type": "stream",
     "text": [
      "['Hello', 'How', 'are', 'you', 'Hope', 'you', 'are', 'fine', 'and', 'good', '.', 'What', \"'s\", 'your', 'name']\n"
     ]
    }
   ],
   "source": [
    "word_t = nltk.word_tokenize(str1)\n",
    "print(word_t)"
   ]
  },
  {
   "cell_type": "code",
   "execution_count": 8,
   "id": "41b376aa-fb99-4129-b8e9-e6f9564a2cfb",
   "metadata": {},
   "outputs": [
    {
     "name": "stdout",
     "output_type": "stream",
     "text": [
      "[' Hello How are you Hope you are fine and good.', \"What's your name\"]\n"
     ]
    }
   ],
   "source": [
    "sent_t = nltk.sent_tokenize(str1)\n",
    "print(sent_t)"
   ]
  },
  {
   "cell_type": "code",
   "execution_count": 11,
   "id": "441ea7bb-5f5b-4141-88ac-923ea7192fa7",
   "metadata": {},
   "outputs": [
    {
     "name": "stderr",
     "output_type": "stream",
     "text": [
      "[nltk_data] Downloading package stopwords to\n",
      "[nltk_data]     C:\\Users\\SUMEDH\\AppData\\Roaming\\nltk_data...\n",
      "[nltk_data]   Package stopwords is already up-to-date!\n"
     ]
    }
   ],
   "source": [
    "nltk.download('stopwords')\n",
    "from nltk.corpus import stopwords"
   ]
  },
  {
   "cell_type": "code",
   "execution_count": 12,
   "id": "be74dc63-b1a7-4e43-b36d-6fe7d551de23",
   "metadata": {},
   "outputs": [
    {
     "name": "stdout",
     "output_type": "stream",
     "text": [
      "['i', 'me', 'my', 'myself', 'we', 'our', 'ours', 'ourselves', 'you', \"you're\", \"you've\", \"you'll\", \"you'd\", 'your', 'yours', 'yourself', 'yourselves', 'he', 'him', 'his', 'himself', 'she', \"she's\", 'her', 'hers', 'herself', 'it', \"it's\", 'its', 'itself', 'they', 'them', 'their', 'theirs', 'themselves', 'what', 'which', 'who', 'whom', 'this', 'that', \"that'll\", 'these', 'those', 'am', 'is', 'are', 'was', 'were', 'be', 'been', 'being', 'have', 'has', 'had', 'having', 'do', 'does', 'did', 'doing', 'a', 'an', 'the', 'and', 'but', 'if', 'or', 'because', 'as', 'until', 'while', 'of', 'at', 'by', 'for', 'with', 'about', 'against', 'between', 'into', 'through', 'during', 'before', 'after', 'above', 'below', 'to', 'from', 'up', 'down', 'in', 'out', 'on', 'off', 'over', 'under', 'again', 'further', 'then', 'once', 'here', 'there', 'when', 'where', 'why', 'how', 'all', 'any', 'both', 'each', 'few', 'more', 'most', 'other', 'some', 'such', 'no', 'nor', 'not', 'only', 'own', 'same', 'so', 'than', 'too', 'very', 's', 't', 'can', 'will', 'just', 'don', \"don't\", 'should', \"should've\", 'now', 'd', 'll', 'm', 'o', 're', 've', 'y', 'ain', 'aren', \"aren't\", 'couldn', \"couldn't\", 'didn', \"didn't\", 'doesn', \"doesn't\", 'hadn', \"hadn't\", 'hasn', \"hasn't\", 'haven', \"haven't\", 'isn', \"isn't\", 'ma', 'mightn', \"mightn't\", 'mustn', \"mustn't\", 'needn', \"needn't\", 'shan', \"shan't\", 'shouldn', \"shouldn't\", 'wasn', \"wasn't\", 'weren', \"weren't\", 'won', \"won't\", 'wouldn', \"wouldn't\"]\n"
     ]
    }
   ],
   "source": [
    "stop_w = stopwords.words('english')\n",
    "print(stop_w)"
   ]
  },
  {
   "cell_type": "code",
   "execution_count": 13,
   "id": "7ec532e5-e6aa-41e6-8bd8-c2efdde10ad0",
   "metadata": {},
   "outputs": [
    {
     "name": "stdout",
     "output_type": "stream",
     "text": [
      "['Hello', 'How', 'Hope', 'fine', 'good', '.', 'What', \"'s\", 'name']\n"
     ]
    }
   ],
   "source": [
    "str2 = []\n",
    "for i in word_t:\n",
    "    if i not in stop_w:\n",
    "        str2.append(i)\n",
    "\n",
    "print (str2)"
   ]
  },
  {
   "cell_type": "code",
   "execution_count": 14,
   "id": "0d8f8fdc-f498-4252-a85c-6b9c1b427e64",
   "metadata": {},
   "outputs": [],
   "source": [
    "from nltk.stem import PorterStemmer"
   ]
  },
  {
   "cell_type": "code",
   "execution_count": 15,
   "id": "103d1481-987a-4eb0-8def-8af584e21d05",
   "metadata": {},
   "outputs": [
    {
     "name": "stdout",
     "output_type": "stream",
     "text": [
      "['runner', 'is', 'running', 'faster', 'than', 'others', '.']\n"
     ]
    }
   ],
   "source": [
    "text = \"runner is running faster than others.\"\n",
    "text_w = nltk.word_tokenize(text)\n",
    "print(text_w)"
   ]
  },
  {
   "cell_type": "code",
   "execution_count": 17,
   "id": "96716d16-e3a6-461b-bfe4-12a8cf0c4ae6",
   "metadata": {},
   "outputs": [
    {
     "data": {
      "text/plain": [
       "['runner', 'is', 'run', 'faster', 'than', 'other', '.']"
      ]
     },
     "execution_count": 17,
     "metadata": {},
     "output_type": "execute_result"
    }
   ],
   "source": [
    "\n",
    "stemmer = PorterStemmer()\n",
    "stem_w = [stemmer.stem(text_w) for text_w in text_w]\n",
    "\n",
    "stem_w"
   ]
  },
  {
   "cell_type": "code",
   "execution_count": null,
   "id": "ed427ce6-5f90-48b5-9649-b08a2eaa306b",
   "metadata": {},
   "outputs": [],
   "source": []
  }
 ],
 "metadata": {
  "kernelspec": {
   "display_name": "tf_gpu",
   "language": "python",
   "name": "python3"
  },
  "language_info": {
   "codemirror_mode": {
    "name": "ipython",
    "version": 3
   },
   "file_extension": ".py",
   "mimetype": "text/x-python",
   "name": "python",
   "nbconvert_exporter": "python",
   "pygments_lexer": "ipython3",
   "version": "3.6.13"
  }
 },
 "nbformat": 4,
 "nbformat_minor": 5
}
