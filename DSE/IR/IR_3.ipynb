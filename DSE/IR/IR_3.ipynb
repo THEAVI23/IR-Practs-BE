{
 "cells": [
  {
   "cell_type": "code",
   "execution_count": null,
   "id": "d6f229f5",
   "metadata": {},
   "outputs": [],
   "source": [
    "!pip install pgmpy"
   ]
  },
  {
   "cell_type": "code",
   "execution_count": 3,
   "id": "c7544d50",
   "metadata": {},
   "outputs": [],
   "source": [
    "import pandas as pd\n",
    "from pgmpy.models import BayesianNetwork\n",
    "from pgmpy.estimators import MaximumLikelihoodEstimator, BayesianEstimator\n",
    "from pgmpy.inference import VariableElimination"
   ]
  },
  {
   "cell_type": "code",
   "execution_count": 4,
   "id": "43ac7a6f",
   "metadata": {},
   "outputs": [],
   "source": [
    "url = \"https://archive.ics.uci.edu/ml/machine-learning-databases/heart-disease/processed.cleveland.data\"\n",
    "columns = ['age', 'sex', 'cp', 'trestbps', 'chol', 'fbs', 'restecg', 'thalach', 'exang', 'oldpeak', 'slope', 'ca', 'thal', 'target']"
   ]
  },
  {
   "cell_type": "code",
   "execution_count": 11,
   "id": "1277ccd3",
   "metadata": {},
   "outputs": [],
   "source": [
    "def process_chunk(chunk):\n",
    "    processed_chunk = chunk.dropna()  # Example: remove NaN values\n",
    "    return processed_chunk\n",
    " \n",
    "all_chunks = []\n",
    "\n",
    "for chunk in pd.read_csv(url, header=None, names=columns, na_values='?', chunksize=chunk_size):\n",
    "    processed = process_chunk(chunk)\n",
    "    all_chunks.append(processed)\n",
    " \n",
    "final_data = pd.concat(all_chunks, ignore_index=True)\n"
   ]
  },
  {
   "cell_type": "code",
   "execution_count": 12,
   "id": "35028b65",
   "metadata": {},
   "outputs": [],
   "source": [
    "data['target'] = data['target'].apply(lambda x: 0 if x == 0 else 1)"
   ]
  },
  {
   "cell_type": "code",
   "execution_count": 15,
   "id": "7387e837",
   "metadata": {},
   "outputs": [],
   "source": [
    "model = BayesianNetwork([('age', 'target'), ('sex', 'target'), ('cp', 'target'), \n",
    "                         ('trestbps', 'target'), ('chol', 'target'), \n",
    "])"
   ]
  },
  {
   "cell_type": "code",
   "execution_count": 16,
   "id": "0eae3ad3",
   "metadata": {},
   "outputs": [],
   "source": [
    "model.fit(data, estimator=MaximumLikelihoodEstimator)"
   ]
  },
  {
   "cell_type": "code",
   "execution_count": 17,
   "id": "ccc95b30",
   "metadata": {},
   "outputs": [],
   "source": [
    "infer = VariableElimination(model)"
   ]
  },
  {
   "cell_type": "code",
   "execution_count": 18,
   "id": "de99d6ed",
   "metadata": {},
   "outputs": [
    {
     "data": {
      "application/vnd.jupyter.widget-view+json": {
       "model_id": "d9f3af5d110540ab9a9f403ec55b0f52",
       "version_major": 2,
       "version_minor": 0
      },
      "text/plain": [
       "  0%|          | 0/2 [00:00<?, ?it/s]"
      ]
     },
     "metadata": {},
     "output_type": "display_data"
    },
    {
     "data": {
      "application/vnd.jupyter.widget-view+json": {
       "model_id": "6430848c2e6441d7a9bcbb4a578beb3f",
       "version_major": 2,
       "version_minor": 0
      },
      "text/plain": [
       "  0%|          | 0/2 [00:00<?, ?it/s]"
      ]
     },
     "metadata": {},
     "output_type": "display_data"
    }
   ],
   "source": [
    "query_result = infer.map_query(variables=['target'], evidence={'age': 50, 'sex': 1, 'chol': 240})"
   ]
  },
  {
   "cell_type": "code",
   "execution_count": 19,
   "id": "6e45f42c",
   "metadata": {},
   "outputs": [
    {
     "name": "stdout",
     "output_type": "stream",
     "text": [
      "Diagnosis: The patient is unlikely to have heart disease.\n"
     ]
    }
   ],
   "source": [
    "if query_result['target'] == 1:\n",
    "    print(\"Diagnosis: The patient is likely to have heart disease.\")\n",
    "else:\n",
    "    print(\"Diagnosis: The patient is unlikely to have heart disease.\")"
   ]
  },
  {
   "cell_type": "code",
   "execution_count": 21,
   "id": "ffddf5e7",
   "metadata": {},
   "outputs": [
    {
     "data": {
      "application/vnd.jupyter.widget-view+json": {
       "model_id": "0a419e77c0914b669da78c93de37d04a",
       "version_major": 2,
       "version_minor": 0
      },
      "text/plain": [
       "  0%|          | 0/2 [00:00<?, ?it/s]"
      ]
     },
     "metadata": {},
     "output_type": "display_data"
    },
    {
     "data": {
      "application/vnd.jupyter.widget-view+json": {
       "model_id": "c44edf49c1c74d528eaab987bedbcbf8",
       "version_major": 2,
       "version_minor": 0
      },
      "text/plain": [
       "  0%|          | 0/2 [00:00<?, ?it/s]"
      ]
     },
     "metadata": {},
     "output_type": "display_data"
    }
   ],
   "source": [
    "query_result = infer.map_query(variables=['target'], evidence={'age': 59, 'sex': 0, 'chol': 250})"
   ]
  },
  {
   "cell_type": "code",
   "execution_count": 23,
   "id": "e6466d45",
   "metadata": {},
   "outputs": [
    {
     "name": "stdout",
     "output_type": "stream",
     "text": [
      "Diagnosis: The patient is likely to have heart disease.\n"
     ]
    }
   ],
   "source": [
    "if query_result['target'] == 0:\n",
    "    print(\"Diagnosis: The patient is likely to have heart disease.\")\n",
    "else:\n",
    "    print(\"Diagnosis: The patient is unlikely to have heart disease.\")"
   ]
  },
  {
   "cell_type": "code",
   "execution_count": null,
   "id": "c5cdcfc1",
   "metadata": {},
   "outputs": [],
   "source": []
  }
 ],
 "metadata": {
  "kernelspec": {
   "display_name": "Python 3 (ipykernel)",
   "language": "python",
   "name": "python3"
  },
  "language_info": {
   "codemirror_mode": {
    "name": "ipython",
    "version": 3
   },
   "file_extension": ".py",
   "mimetype": "text/x-python",
   "name": "python",
   "nbconvert_exporter": "python",
   "pygments_lexer": "ipython3",
   "version": "3.10.4"
  }
 },
 "nbformat": 4,
 "nbformat_minor": 5
}
