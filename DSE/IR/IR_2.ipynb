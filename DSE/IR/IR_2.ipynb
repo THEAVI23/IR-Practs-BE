{
 "cells": [
  {
   "cell_type": "code",
   "execution_count": 1,
   "id": "583e5d37",
   "metadata": {},
   "outputs": [],
   "source": [
    "from collections import defaultdict"
   ]
  },
  {
   "cell_type": "code",
   "execution_count": 2,
   "id": "56b390f0",
   "metadata": {},
   "outputs": [],
   "source": [
    "def build_inverted_index(documents):\n",
    "    inverted_index = defaultdict(list)\n",
    "    \n",
    "    for doc_id, text in documents.items():\n",
    "        words = text.split()  # Tokenize the text by splitting words (basic tokenization)\n",
    "        for word in words:\n",
    "            word = word.lower()  # Convert to lowercase for case insensitivity\n",
    "            if doc_id not in inverted_index[word]:\n",
    "                inverted_index[word].append(doc_id)\n",
    "    \n",
    "    return inverted_index"
   ]
  },
  {
   "cell_type": "code",
   "execution_count": 3,
   "id": "8d50523d",
   "metadata": {},
   "outputs": [],
   "source": [
    "def retrieve_documents(query, inverted_index):\n",
    "    query_words = query.split()  # Split query into words\n",
    "    relevant_docs = set()\n",
    "\n",
    "    for word in query_words:\n",
    "        word = word.lower()  # Convert to lowercase\n",
    "        if word in inverted_index:\n",
    "            if not relevant_docs:\n",
    "                relevant_docs = set(inverted_index[word])  # Initialize with first query word's docs\n",
    "            else:\n",
    "                relevant_docs.intersection_update(inverted_index[word])  # Perform intersection for multiple words\n",
    "    \n",
    "    return relevant_docs if relevant_docs else \"No documents match the query.\"\n"
   ]
  },
  {
   "cell_type": "code",
   "execution_count": 4,
   "id": "46b8ef31",
   "metadata": {},
   "outputs": [],
   "source": [
    "documents = {\n",
    "    1: \"Natural language processing is a field of artificial intelligence.\",\n",
    "    2: \"Inverted indexing is used for document retrieval.\",\n",
    "    3: \"Document retrieval is efficient using inverted index structures.\",\n",
    "    4: \"Artificial intelligence and machine learning are popular fields in computer science.\",\n",
    "}\n"
   ]
  },
  {
   "cell_type": "code",
   "execution_count": 5,
   "id": "3a14596a",
   "metadata": {},
   "outputs": [],
   "source": [
    "inverted_index = build_inverted_index(documents)"
   ]
  },
  {
   "cell_type": "code",
   "execution_count": 13,
   "id": "3479de30",
   "metadata": {},
   "outputs": [],
   "source": [
    "query = \"artificial\"\n",
    "relevant_docs = retrieve_documents(query, inverted_index)"
   ]
  },
  {
   "cell_type": "code",
   "execution_count": 14,
   "id": "7ecec9cb",
   "metadata": {},
   "outputs": [
    {
     "name": "stdout",
     "output_type": "stream",
     "text": [
      "\n",
      "Sample Inverted Index (partial):\n",
      "'natural': [1]\n",
      "'language': [1]\n",
      "'processing': [1]\n",
      "'is': [1, 2, 3]\n",
      "'a': [1]\n",
      "'field': [1]\n",
      "'of': [1]\n",
      "'artificial': [1, 4]\n",
      "'intelligence.': [1]\n",
      "'inverted': [2, 3]\n"
     ]
    }
   ],
   "source": [
    "print(\"\\nSample Inverted Index (partial):\")\n",
    "for word in list(inverted_index.keys())[:10]:  # Printing a few sample entries\n",
    "    print(f\"'{word}': {inverted_index[word]}\")"
   ]
  },
  {
   "cell_type": "code",
   "execution_count": 15,
   "id": "c531d220",
   "metadata": {},
   "outputs": [
    {
     "name": "stdout",
     "output_type": "stream",
     "text": [
      "Query: 'artificial'\n",
      "Relevant Documents: {1, 4}\n"
     ]
    }
   ],
   "source": [
    "print(f\"Query: '{query}'\")\n",
    "print(f\"Relevant Documents: {relevant_docs}\")"
   ]
  },
  {
   "cell_type": "code",
   "execution_count": null,
   "id": "4027834a",
   "metadata": {},
   "outputs": [],
   "source": []
  }
 ],
 "metadata": {
  "kernelspec": {
   "display_name": "Python 3 (ipykernel)",
   "language": "python",
   "name": "python3"
  },
  "language_info": {
   "codemirror_mode": {
    "name": "ipython",
    "version": 3
   },
   "file_extension": ".py",
   "mimetype": "text/x-python",
   "name": "python",
   "nbconvert_exporter": "python",
   "pygments_lexer": "ipython3",
   "version": "3.10.4"
  }
 },
 "nbformat": 4,
 "nbformat_minor": 5
}
