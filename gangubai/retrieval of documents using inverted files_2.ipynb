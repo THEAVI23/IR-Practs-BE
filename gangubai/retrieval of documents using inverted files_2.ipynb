{
 "cells": [
  {
   "cell_type": "code",
   "execution_count": 14,
   "id": "02534421-2c85-4f10-a4ef-d1f6021fc850",
   "metadata": {},
   "outputs": [],
   "source": [
    "document1 = \"The quick brown fox jumped over the lazy dog.\"\n",
    "document2 = \"The lazy dog slept in the sun.\" "
   ]
  },
  {
   "cell_type": "code",
   "execution_count": 16,
   "id": "63322267-c1b3-4b04-a5ff-06e2baaff491",
   "metadata": {},
   "outputs": [
    {
     "name": "stdout",
     "output_type": "stream",
     "text": [
      "Tokenl : ['the', 'quick', 'brown', 'fox', 'jumped', 'over', 'the', 'lazy', 'dog.']\n",
      "\n",
      "\n",
      "Token2 : ['the', 'lazy', 'dog', 'slept', 'in', 'the', 'sun.']\n"
     ]
    }
   ],
   "source": [
    "# Convert each document to Lowercase and split it into words\n",
    "tokens1 = document1.lower().split()\n",
    "tokens2 = document2.lower().split()\n",
    "print(f\"Tokenl : {tokens1}\")\n",
    "print(f\"\\n\\nToken2 : {tokens2}\") "
   ]
  },
  {
   "cell_type": "code",
   "execution_count": 18,
   "id": "f04a36e2-6fc1-4292-b948-67a3c744b75c",
   "metadata": {},
   "outputs": [
    {
     "name": "stdout",
     "output_type": "stream",
     "text": [
      "Terms : ['slept', 'in', 'dog.', 'brown', 'lazy', 'dog', 'fox', 'the', 'quick', 'over', 'jumped', 'sun.']\n"
     ]
    }
   ],
   "source": [
    "# Combine the tokens into a list of unique terms\n",
    "terms = list(set(tokens1 + tokens2))\n",
    "print(f\"Terms : {terms}\") "
   ]
  },
  {
   "cell_type": "code",
   "execution_count": 22,
   "id": "a3db3b39-80d6-4c3b-bcf3-45d244ba340d",
   "metadata": {},
   "outputs": [
    {
     "name": "stdout",
     "output_type": "stream",
     "text": [
      "Inverted Index Dictionary : \n",
      "{'slept': ['Document 2'], 'in': ['Document 2'], 'dog.': ['Document 1'], 'brown': ['Document 1'], 'lazy': ['Document 1', 'Document 2'], 'dog': ['Document 2'], 'fox': ['Document 1'], 'the': ['Document 1', 'Document 2'], 'quick': ['Document 1'], 'over': ['Document 1'], 'jumped': ['Document 1'], 'sun.': ['Document 2']}\n"
     ]
    }
   ],
   "source": [
    "# Create an empty dictionary to store the inverted index\n",
    "inverted_index = {}\n",
    "\n",
    "# For each term, find the documents that contain it\n",
    "for term in terms:\n",
    "    documents = []\n",
    "    if term in tokensl:\n",
    "        documents.append(\"Document 1\")\n",
    "    if term in tokens2:\n",
    "        documents.append(\"Document 2\")\n",
    "    inverted_index[term] = documents\n",
    "\n",
    "print(f\"Inverted Index Dictionary : \\n{inverted_index}\")\n"
   ]
  },
  {
   "cell_type": "code",
   "execution_count": 26,
   "id": "b79ec65d-9c82-4c2e-8eca-50df13e1f842",
   "metadata": {},
   "outputs": [
    {
     "name": "stdout",
     "output_type": "stream",
     "text": [
      "slept -> Document 2\n",
      "in -> Document 2\n",
      "dog. -> Document 1\n",
      "brown -> Document 1\n",
      "lazy -> Document 1, Document 2\n",
      "dog -> Document 2\n",
      "fox -> Document 1\n",
      "the -> Document 1, Document 2\n",
      "quick -> Document 1\n",
      "over -> Document 1\n",
      "jumped -> Document 1\n",
      "sun. -> Document 2\n"
     ]
    }
   ],
   "source": [
    "# Print inverted index\n",
    "for term, documents in inverted_index.items():\n",
    "    print(f\"{term} -> {', '.join(documents)}\") "
   ]
  },
  {
   "cell_type": "code",
   "execution_count": null,
   "id": "cba5f4fb-0df9-4ac6-b828-a4224861cd22",
   "metadata": {},
   "outputs": [],
   "source": []
  }
 ],
 "metadata": {
  "kernelspec": {
   "display_name": "Python 3 (ipykernel)",
   "language": "python",
   "name": "python3"
  },
  "language_info": {
   "codemirror_mode": {
    "name": "ipython",
    "version": 3
   },
   "file_extension": ".py",
   "mimetype": "text/x-python",
   "name": "python",
   "nbconvert_exporter": "python",
   "pygments_lexer": "ipython3",
   "version": "3.12.4"
  }
 },
 "nbformat": 4,
 "nbformat_minor": 5
}
