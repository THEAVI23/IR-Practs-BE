{
 "cells": [
  {
   "cell_type": "code",
   "execution_count": 1,
   "id": "85446814-c6ec-4373-a24a-5c613be9d443",
   "metadata": {},
   "outputs": [],
   "source": [
    "import io\n",
    "import nltk\n",
    "from nltk.corpus import stopwords\n",
    "from nltk.tokenize import word_tokenize "
   ]
  },
  {
   "cell_type": "code",
   "execution_count": 2,
   "id": "94e84e53-af94-40eb-a09d-15e38533018f",
   "metadata": {},
   "outputs": [],
   "source": [
    "stop_words = set(stopwords.words('english')) "
   ]
  },
  {
   "cell_type": "code",
   "execution_count": 3,
   "id": "9cee47ce-8b2e-4803-a5da-a87c35cff1ba",
   "metadata": {},
   "outputs": [
    {
     "name": "stdout",
     "output_type": "stream",
     "text": [
      "Before Removing Stop Words : \n",
      "['The', 'quick', 'brown', 'fox', 'jumps', 'over', 'the', 'lazy', 'dog.', 'In', 'the', 'midst', 'of', 'the', 'forest,', 'there', 'was', 'a', 'tiny', 'cabin.', 'The', 'cabin', 'had', 'a', 'small', 'window', 'from', 'which', 'you', 'could', 'see', 'the', 'river.', 'He', 'walked', 'towards', 'the', 'river,', 'and', 'as', 'he', 'did,', 'the', 'sound', 'of', 'birds', 'filled', 'the', 'air.', 'Although', 'it', 'was', 'cold,', 'he', 'enjoyed', 'the', 'calm', 'and', 'peace', 'of', 'the', 'forest.']\n",
      "Length : 62\n"
     ]
    }
   ],
   "source": [
    "filel = open(\"sample.txt\")\n",
    "line = filel.read()\n",
    "words = line.split()\n",
    "print(f\"Before Removing Stop Words : \\n{words}\\nLength : {len(words)}\") "
   ]
  },
  {
   "cell_type": "code",
   "execution_count": 4,
   "id": "2187cdf5-bc4b-4265-8b15-71784977665c",
   "metadata": {},
   "outputs": [],
   "source": [
    "for r in words:\n",
    "    if not r in stop_words:\n",
    "        appendFile = open('output_filteredtext.txt','a')\n",
    "        appendFile.write(\" \"+r)\n",
    "        appendFile.close()"
   ]
  },
  {
   "cell_type": "code",
   "execution_count": 5,
   "id": "a6e62ee4-2a04-4cf1-ad3d-95daa19632e0",
   "metadata": {},
   "outputs": [
    {
     "name": "stdout",
     "output_type": "stream",
     "text": [
      "After Removing Stop Words : \n",
      "['The', 'quick', 'brown', 'fox', 'jumps', 'lazy', 'dog.', 'In', 'midst', 'forest,', 'tiny', 'cabin.', 'The', 'cabin', 'small', 'window', 'could', 'see', 'river.', 'He', 'walked', 'towards', 'river,', 'did,', 'sound', 'birds', 'filled', 'air.', 'Although', 'cold,', 'enjoyed', 'calm', 'peace', 'forest.', 'The', 'quick', 'brown', 'fox', 'jumps', 'lazy', 'dog.', 'In', 'midst', 'forest,', 'tiny', 'cabin.', 'The', 'cabin', 'small', 'window', 'could', 'see', 'river.', 'He', 'walked', 'towards', 'river,', 'did,', 'sound', 'birds', 'filled', 'air.', 'Although', 'cold,', 'enjoyed', 'calm', 'peace', 'forest.']\n",
      "Length : 68\n"
     ]
    }
   ],
   "source": [
    "file2 = open(\"output_filteredtext.txt\")\n",
    "line2 = file2.read()\n",
    "words = line2.split()\n",
    "print(f\"After Removing Stop Words : \\n{words}\\nLength : {len(words)}\") "
   ]
  },
  {
   "cell_type": "code",
   "execution_count": null,
   "id": "5318c796-a02f-437a-b285-93f3c048845c",
   "metadata": {},
   "outputs": [],
   "source": []
  }
 ],
 "metadata": {
  "kernelspec": {
   "display_name": "Python 3 (ipykernel)",
   "language": "python",
   "name": "python3"
  },
  "language_info": {
   "codemirror_mode": {
    "name": "ipython",
    "version": 3
   },
   "file_extension": ".py",
   "mimetype": "text/x-python",
   "name": "python",
   "nbconvert_exporter": "python",
   "pygments_lexer": "ipython3",
   "version": "3.12.4"
  }
 },
 "nbformat": 4,
 "nbformat_minor": 5
}
