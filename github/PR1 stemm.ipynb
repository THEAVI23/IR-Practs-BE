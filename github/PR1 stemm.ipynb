{
 "cells": [
  {
   "cell_type": "code",
   "execution_count": 3,
   "id": "9804d09c",
   "metadata": {},
   "outputs": [],
   "source": [
    "from nltk.tokenize import word_tokenize\n",
    "from nltk.stem import PorterStemmer"
   ]
  },
  {
   "cell_type": "code",
   "execution_count": 4,
   "id": "a9c2b96a",
   "metadata": {},
   "outputs": [],
   "source": [
    "ps = PorterStemmer()"
   ]
  },
  {
   "cell_type": "code",
   "execution_count": 11,
   "id": "13dba500",
   "metadata": {},
   "outputs": [
    {
     "name": "stdout",
     "output_type": "stream",
     "text": [
      "program : program\n",
      "programmer : programm\n",
      "programming : program\n",
      "programs : program\n",
      "programmers : programm\n"
     ]
    }
   ],
   "source": [
    "sample = ['program', 'programmer', 'programming', 'programs', 'programmers']\n",
    "\n",
    "for s in sample:\n",
    "    print(f\"{s} : {ps.stem(s)}\")"
   ]
  },
  {
   "cell_type": "code",
   "execution_count": 12,
   "id": "03b8e7e1",
   "metadata": {},
   "outputs": [
    {
     "name": "stdout",
     "output_type": "stream",
     "text": [
      "['Programmers', 'program', 'with', 'different', 'programming', 'languages']\n"
     ]
    }
   ],
   "source": [
    "sentence = \"Programmers program with different programming languages\"\n",
    "words = word_tokenize(sentence)\n",
    "print(words)"
   ]
  },
  {
   "cell_type": "code",
   "execution_count": 13,
   "id": "73fbdb56",
   "metadata": {},
   "outputs": [
    {
     "name": "stdout",
     "output_type": "stream",
     "text": [
      "Programmers : programm\n",
      "program : program\n",
      "with : with\n",
      "different : differ\n",
      "programming : program\n",
      "languages : languag\n"
     ]
    }
   ],
   "source": [
    "for w in words:\n",
    "    print(f\"{w} : {ps.stem(w)}\")"
   ]
  },
  {
   "cell_type": "code",
   "execution_count": null,
   "id": "cd281cea",
   "metadata": {},
   "outputs": [],
   "source": []
  }
 ],
 "metadata": {
  "kernelspec": {
   "display_name": "Python 3 (ipykernel)",
   "language": "python",
   "name": "python3"
  },
  "language_info": {
   "codemirror_mode": {
    "name": "ipython",
    "version": 3
   },
   "file_extension": ".py",
   "mimetype": "text/x-python",
   "name": "python",
   "nbconvert_exporter": "python",
   "pygments_lexer": "ipython3",
   "version": "3.8.5"
  }
 },
 "nbformat": 4,
 "nbformat_minor": 5
}
