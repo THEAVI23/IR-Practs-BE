{
 "cells": [
  {
   "cell_type": "code",
   "execution_count": 16,
   "id": "28835788",
   "metadata": {},
   "outputs": [],
   "source": [
    "import io\n",
    "from nltk.corpus import stopwords\n",
    "from nltk.tokenize import word_tokenize"
   ]
  },
  {
   "cell_type": "code",
   "execution_count": 17,
   "id": "c2c285b1",
   "metadata": {},
   "outputs": [],
   "source": [
    "stop_words = set(stopwords.words('english'))"
   ]
  },
  {
   "cell_type": "code",
   "execution_count": 24,
   "id": "1699cd16",
   "metadata": {},
   "outputs": [
    {
     "name": "stdout",
     "output_type": "stream",
     "text": [
      "Before Removing Stop Words : \n",
      "['Integrating', 'non-traditional', 'assessment', 'methods', 'like', 'project-based', 'learning', 'and', 'competency-based', 'evaluation', 'could', 'provide', 'a', 'more', 'comprehensive', 'picture', 'of', 'student', 'performance.', 'In', 'conclusion,', 'student', 'performance', 'and', 'monitoring', 'systems', 'offer', 'immense', 'potential', 'for', 'enhancing', 'educational', 'outcomes', 'by', 'leveraging', 'data,', 'technology,', 'and', 'collaboration.']\n",
      "Length : 39\n"
     ]
    }
   ],
   "source": [
    "file1 = open(\"./data/sample.txt\")\n",
    "\n",
    "line = file1.read()\n",
    "\n",
    "words = line.split()\n",
    "\n",
    "print(f\"Before Removing Stop Words : \\n{words}\\nLength : {len(words)}\")"
   ]
  },
  {
   "cell_type": "code",
   "execution_count": 19,
   "id": "5c6bb92e",
   "metadata": {},
   "outputs": [],
   "source": [
    "for r in words:\n",
    "    if not r in stop_words:\n",
    "        appendFile = open('./data/output_filteredtext.txt','a')\n",
    "        appendFile.write(\" \"+r)\n",
    "        appendFile.close()"
   ]
  },
  {
   "cell_type": "code",
   "execution_count": 27,
   "id": "c8bd9a85",
   "metadata": {},
   "outputs": [
    {
     "name": "stdout",
     "output_type": "stream",
     "text": [
      "After Removing Stop Words : \n",
      "['Integrating', 'non-traditional', 'assessment', 'methods', 'like', 'project-based', 'learning', 'competency-based', 'evaluation', 'could', 'provide', 'comprehensive', 'picture', 'student', 'performance.', 'In', 'conclusion,', 'student', 'performance', 'monitoring', 'systems', 'offer', 'immense', 'potential', 'enhancing', 'educational', 'outcomes', 'leveraging', 'data,', 'technology,', 'collaboration.']\n",
      "Length : 31\n"
     ]
    }
   ],
   "source": [
    "file2 = open(\"./data/output_filteredtext.txt\")\n",
    "\n",
    "line2 = file2.read()\n",
    "\n",
    "words = line2.split()\n",
    "\n",
    "print(f\"After Removing Stop Words : \\n{words}\\nLength : {len(words)}\")"
   ]
  },
  {
   "cell_type": "code",
   "execution_count": null,
   "id": "fc74a07e",
   "metadata": {},
   "outputs": [],
   "source": []
  }
 ],
 "metadata": {
  "kernelspec": {
   "display_name": "Python 3 (ipykernel)",
   "language": "python",
   "name": "python3"
  },
  "language_info": {
   "codemirror_mode": {
    "name": "ipython",
    "version": 3
   },
   "file_extension": ".py",
   "mimetype": "text/x-python",
   "name": "python",
   "nbconvert_exporter": "python",
   "pygments_lexer": "ipython3",
   "version": "3.8.5"
  }
 },
 "nbformat": 4,
 "nbformat_minor": 5
}
