{
 "cells": [
  {
   "cell_type": "code",
   "execution_count": 1,
   "id": "62470411",
   "metadata": {},
   "outputs": [],
   "source": [
    "import numpy as np\n",
    "import pandas as pd\n",
    "import matplotlib.pyplot as plt\n",
    "from sklearn.feature_extraction.text import CountVectorizer\n",
    "from sklearn.naive_bayes import MultinomialNB, GaussianNB\n",
    "from sklearn import svm\n",
    "from sklearn.model_selection import GridSearchCV"
   ]
  },
  {
   "cell_type": "code",
   "execution_count": 7,
   "id": "ee12312d",
   "metadata": {},
   "outputs": [],
   "source": [
    "data = pd.read_csv(\"spam.csv\", encoding='ISO-8859-1')"
   ]
  },
  {
   "cell_type": "code",
   "execution_count": 8,
   "id": "df613230",
   "metadata": {},
   "outputs": [],
   "source": [
    "x_data=data.v2\n",
    "y_data=data.v1\n",
    "split =(int)(0.8*data.shape[0])\n",
    "x_train=x_data[:split]\n",
    "x_test=x_data[split:]\n",
    "y_train=y_data[:split]\n",
    "y_test=y_data[split:]"
   ]
  },
  {
   "cell_type": "code",
   "execution_count": 12,
   "id": "d53f4fc1",
   "metadata": {},
   "outputs": [
    {
     "ename": "NameError",
     "evalue": "name 'vectorizer' is not defined",
     "output_type": "error",
     "traceback": [
      "\u001b[1;31m---------------------------------------------------------------------------\u001b[0m",
      "\u001b[1;31mNameError\u001b[0m                                 Traceback (most recent call last)",
      "Cell \u001b[1;32mIn[12], line 4\u001b[0m\n\u001b[0;32m      2\u001b[0m \u001b[38;5;28;01mfrom\u001b[39;00m \u001b[38;5;21;01msklearn\u001b[39;00m\u001b[38;5;21;01m.\u001b[39;00m\u001b[38;5;21;01mmodel_selection\u001b[39;00m \u001b[38;5;28;01mimport\u001b[39;00m train_test_split\n\u001b[0;32m      3\u001b[0m X_train, X_test, y_train, y_test \u001b[38;5;241m=\u001b[39m train_test_split(data\u001b[38;5;241m.\u001b[39mv2, data\u001b[38;5;241m.\u001b[39mv1, test_size\u001b[38;5;241m=\u001b[39m\u001b[38;5;241m0.2\u001b[39m, random_state\u001b[38;5;241m=\u001b[39m\u001b[38;5;241m42\u001b[39m)\n\u001b[1;32m----> 4\u001b[0m vectorizer \u001b[38;5;241m=\u001b[39m \u001b[43mvectorizer\u001b[49m(stop_words\u001b[38;5;241m=\u001b[39m\u001b[38;5;124m'\u001b[39m\u001b[38;5;124menglish\u001b[39m\u001b[38;5;124m'\u001b[39m)\n\u001b[0;32m      5\u001b[0m X_train_tfidf \u001b[38;5;241m=\u001b[39m vectorizer\u001b[38;5;241m.\u001b[39mfit_transform(X_train)\n\u001b[0;32m      6\u001b[0m X_test_tfidf \u001b[38;5;241m=\u001b[39m vectorizer\u001b[38;5;241m.\u001b[39mtransform(X_test)\n",
      "\u001b[1;31mNameError\u001b[0m: name 'vectorizer' is not defined"
     ]
    }
   ],
   "source": [
    "data.v1 = data.v1.map({'ham': 0, 'spam': 1})   \n",
    "from sklearn.model_selection import train_test_split\n",
    "X_train, X_test, y_train, y_test = train_test_split(data.v2, data.v1, test_size=0.2, random_state=42)\n",
    "vectorizer = vectorizer(stop_words='english')\n",
    "X_train_tfidf = vectorizer.fit_transform(X_train)\n",
    "X_test_tfidf = vectorizer.transform(X_test)\n",
    "model = MultinomialNB()\n",
    "model.fit(X_train_tfidf, y_train)\n",
    "y_pred = model.predict(X_test_tfidf)\n",
    "accuracy = accuracy_score(y_test, y_pred)\n",
    "conf_matrix = confusion_matrix(y_test, y_pred)\n",
    "report = classification_report(y_test, y_pred)\n",
    "print(f\"Accuracy: {accuracy*100:.2f}%\")\n",
    "print(\"\\nConfusion Matrix:\\n\", conf_matrix)\n",
    "print(\"\\nClassification Report:\\n\", report)\n",
    "test_email1 = [\n",
    "    \"Congratulations! You've won a $1000 gift card! Click the link below to claim your prize now!\"\n",
    "]\n",
    "test_email_tfidf = vectorizer.transform(test_email1)\n",
    "prediction = model.predict(test_email_tfidf)\n",
    "if prediction[0] == 1:\n",
    "    print(\"The email is classified as SPAM.\")\n",
    "else:\n",
    "    print(\"The email is classified as NOT SPAM.\")\n",
    "test_email2 = [\n",
    "    \"Hi, we would love to hear your feedback on your recent purchase. Please take a moment to fill out our survey.\"\n",
    "]\n",
    "test_email_tfidf = vectorizer.transform(test_email2)\n",
    "prediction = model.predict(test_email_tfidf)\n",
    "if prediction[0] == 0:\n",
    "    print(\"The email is classified as SPAM.\")\n",
    "else:\n",
    "    print(\"The email is classified as NOT SPAM.\")"
   ]
  }
 ],
 "metadata": {
  "kernelspec": {
   "display_name": "Python 3",
   "language": "python",
   "name": "python3"
  },
  "language_info": {
   "codemirror_mode": {
    "name": "ipython",
    "version": 3
   },
   "file_extension": ".py",
   "mimetype": "text/x-python",
   "name": "python",
   "nbconvert_exporter": "python",
   "pygments_lexer": "ipython3",
   "version": "3.12.4"
  }
 },
 "nbformat": 4,
 "nbformat_minor": 5
}
